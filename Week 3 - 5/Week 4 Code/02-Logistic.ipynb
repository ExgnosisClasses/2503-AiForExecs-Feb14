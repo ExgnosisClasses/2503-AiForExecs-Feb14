{
 "cells": [
  {
   "cell_type": "markdown",
   "id": "6ca85cac-5e73-42d3-83d4-d574cc02bcfb",
   "metadata": {},
   "source": [
    "# Logistic Regression With College Admission data\n",
    "\n",
    "This execise will use a data set of college graduate admissions to predict whether or not a student will be accepted based on their GRE scores, GPA and ranking"
   ]
  },
  {
   "cell_type": "code",
   "execution_count": null,
   "id": "34dcf579-2f7e-4461-994e-15ad3467c8c8",
   "metadata": {},
   "outputs": [],
   "source": [
    "import numpy as np\n",
    "import pandas as pd\n",
    "import matplotlib.pyplot as plt"
   ]
  },
  {
   "cell_type": "markdown",
   "id": "42a39917-01b0-43ba-9e9d-080700c84e24",
   "metadata": {},
   "source": [
    "## Load Data\n",
    "\n",
    "- After loading the data, print out a sample of ten random rows to visually inspect the data"
   ]
  },
  {
   "cell_type": "code",
   "execution_count": null,
   "id": "7384002c-0480-4900-9508-c8d43f9a6ef3",
   "metadata": {},
   "outputs": [],
   "source": [
    "pd.options.display.float_format = '{:,.2f}'.format\n",
    "dataset = \"datasets/admission.csv\"\n",
    "data = pd.read_csv(dataset)\n",
    "data.sample(10)\n"
   ]
  },
  {
   "cell_type": "markdown",
   "id": "7ec8c820-65c7-4d09-a091-5e852245165b",
   "metadata": {},
   "source": [
    "## Exploratory Data Analysis (EDA)\n",
    "\n",
    "- As before, get as idea of what the data distribution looks like\n",
    "- We can also see the distribution of the target labels.\n",
    "- The results don't seem to be grossly skewed so we don't worry about over or under sampling"
   ]
  },
  {
   "cell_type": "code",
   "execution_count": null,
   "id": "600381e2-b453-478c-861e-234551a51137",
   "metadata": {},
   "outputs": [],
   "source": [
    "data.describe()"
   ]
  },
  {
   "cell_type": "code",
   "execution_count": null,
   "id": "05c144ea-3947-4d3a-9cab-82da1c61e734",
   "metadata": {},
   "outputs": [],
   "source": [
    "data['admit'].value_counts()"
   ]
  },
  {
   "cell_type": "code",
   "execution_count": null,
   "id": "5753d61d-e580-49c5-9fb4-96f3b7e665eb",
   "metadata": {},
   "outputs": [],
   "source": [
    "data['admit'].value_counts(normalize=True)"
   ]
  },
  {
   "cell_type": "markdown",
   "id": "e3d13527-9e90-4044-9e81-ff76210c431c",
   "metadata": {},
   "source": [
    "## Shape Data\n",
    "\n",
    "- As in the previous example, we are going to split our data into an input training set and a label set"
   ]
  },
  {
   "cell_type": "code",
   "execution_count": null,
   "id": "bde71d74-075b-43f4-8b82-46537a7b61cf",
   "metadata": {},
   "outputs": [],
   "source": [
    "x = data[['gre', 'gpa', 'rank']]\n",
    "y = data['admit']\n",
    "\n",
    "print (x)\n",
    "print (y)"
   ]
  },
  {
   "cell_type": "code",
   "execution_count": null,
   "id": "69e765c5-6251-4ca5-ac41-a94e65ad4b97",
   "metadata": {},
   "outputs": [],
   "source": [
    "print ('x : ', x.shape)\n",
    "print ('y : ', y.shape)"
   ]
  },
  {
   "cell_type": "markdown",
   "id": "d68a6b16-d5c0-42d9-a65d-956bf064f08e",
   "metadata": {},
   "source": [
    "## Split train/test\n",
    "\n",
    "- Unlike the last example, we are splitting the data into two parts.\n",
    "- One part is the training data that is used to train the model\n",
    "- The other part is the test data used to test our model\n",
    "- In this case, 80% of the data is used to train the model"
   ]
  },
  {
   "cell_type": "code",
   "execution_count": null,
   "id": "420a1f66-3197-4206-b9fa-1b79af06cd0c",
   "metadata": {},
   "outputs": [],
   "source": [
    "from sklearn.model_selection import train_test_split\n",
    "x_train,x_test,y_train, y_test = train_test_split(x,y,  test_size=0.2, random_state=123)\n",
    "\n",
    "\n",
    "print (\"x_train :\" , x_train.shape )\n",
    "print (\"x_test :\", x_test.shape)\n",
    "print (\"y_train :\", y_train.shape)\n",
    "print (\"y_test :\", y_test.shape)"
   ]
  },
  {
   "cell_type": "markdown",
   "id": "0170f961-402e-4ea2-b617-192ebb287db5",
   "metadata": {},
   "source": [
    "## Logistic Regression\n",
    "\n",
    "- We use the built in library for scikit-learn to create a logistic regression model\n",
    "- Once the model is trained, we examine the coefficients and notice that GPA seems to have a strong influence"
   ]
  },
  {
   "cell_type": "code",
   "execution_count": null,
   "id": "10c45895-e66e-4de0-abd5-6c2231ae9731",
   "metadata": {},
   "outputs": [],
   "source": [
    "from sklearn.linear_model import LogisticRegression\n",
    "\n",
    "lr = LogisticRegression()\n",
    "model = lr.fit(x_train, y_train)\n",
    "print('coef : ', model.coef_)\n",
    "\n"
   ]
  },
  {
   "cell_type": "markdown",
   "id": "596aaa27-ff75-4a91-82b0-02d5a521a176",
   "metadata": {},
   "source": [
    "## Model Evaluation\n",
    "\n",
    "- Now we use the test data to make predictions and compare them against the labels\n",
    "- Notice that the score on the test data is higher than on the training data. \n"
   ]
  },
  {
   "cell_type": "code",
   "execution_count": null,
   "id": "12861a8c-bedb-4e31-8acf-f076721539cc",
   "metadata": {},
   "outputs": [],
   "source": [
    "y_pred = model.predict (x_test)\n",
    "y_pred"
   ]
  },
  {
   "cell_type": "code",
   "execution_count": null,
   "id": "0ae7feeb-f08a-4016-a8d6-c420057d8801",
   "metadata": {},
   "outputs": [],
   "source": [
    "train_accuracy = model.score(x_train,y_train)\n",
    "print (\"Train accuracy: \", train_accuracy)"
   ]
  },
  {
   "cell_type": "code",
   "execution_count": null,
   "id": "4891eba1-5f1e-4d72-b01e-5d2c39449357",
   "metadata": {},
   "outputs": [],
   "source": [
    "test_accuracy = model.score(x_test, y_test)\n",
    "\n",
    "print (\"Test accuracy: \", test_accuracy)"
   ]
  },
  {
   "cell_type": "markdown",
   "id": "b754787a-5e76-4370-b7e1-903587b5f28b",
   "metadata": {},
   "source": [
    "#### Confusion matrix\n",
    "\n",
    "- This shows us the misclassifications. The actual values are on the side and predicted values on the top\n",
    "- In this case for 0, the model got 52 right but wrongly identified 21 as a 1\n",
    "- In this case for 1, it correctly identifed 7 as 1  a"
   ]
  },
  {
   "cell_type": "code",
   "execution_count": null,
   "id": "3e97fe6e-ea74-43fa-8188-367231a9bc34",
   "metadata": {},
   "outputs": [],
   "source": [
    "from sklearn.metrics import confusion_matrix\n",
    "import numpy as np\n",
    "\n",
    "cm_labels = np.unique(y)\n",
    "cm_array = confusion_matrix(y_test, y_pred)\n",
    "\n",
    "\n",
    "cm_df = pd.DataFrame(cm_array, index=cm_labels, columns=cm_labels)\n",
    "cm_df"
   ]
  },
  {
   "cell_type": "code",
   "execution_count": null,
   "id": "04b60657-ee52-4635-b57a-e1f9438cd00c",
   "metadata": {},
   "outputs": [],
   "source": [
    "import matplotlib.pyplot as plt\n",
    "import seaborn as sns\n",
    "\n",
    "plt.figure(figsize = (8,5))\n",
    "\n",
    "# colormaps : cmap=\"YlGnBu\" , cmap=\"Greens\", cmap=\"Blues\",  cmap=\"Reds\"\n",
    "sns.heatmap(cm_df, annot=True, cmap=\"Reds\", fmt='d').plot()"
   ]
  }
 ],
 "metadata": {
  "kernelspec": {
   "display_name": "Python 3 (ipykernel)",
   "language": "python",
   "name": "python3"
  },
  "language_info": {
   "codemirror_mode": {
    "name": "ipython",
    "version": 3
   },
   "file_extension": ".py",
   "mimetype": "text/x-python",
   "name": "python",
   "nbconvert_exporter": "python",
   "pygments_lexer": "ipython3",
   "version": "3.13.2"
  }
 },
 "nbformat": 4,
 "nbformat_minor": 5
}
